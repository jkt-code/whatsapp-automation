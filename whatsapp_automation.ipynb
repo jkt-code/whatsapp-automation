{
 "cells": [
  {
   "cell_type": "code",
   "execution_count": 1,
   "id": "e6749617-1257-418d-a17b-01a17722d296",
   "metadata": {},
   "outputs": [],
   "source": [
    "import pandas as pd\n",
    "data = pd.read_excel(\"C:/Users/User/OneDrive/Uzuri Shops Contacts.xlsx\")\n",
    "data['Contact'] = '254' + data['Contact'].astype('str')"
   ]
  },
  {
   "cell_type": "code",
   "execution_count": null,
   "id": "9c3d9c0e-dd63-4862-bbb5-799495f4ae86",
   "metadata": {},
   "outputs": [],
   "source": [
    "from selenium import webdriver \n",
    "from selenium.webdriver.common.by import By \n",
    "from selenium.webdriver.common.keys import Keys \n",
    "import time\n",
    "import webbrowser \n",
    "from webdriver_manager.chrome import ChromeDriverManager\n",
    "from selenium.webdriver.chrome.service import Service \n",
    "import pyautogui\n",
    "\n",
    "contacts = data['Contact']\n",
    "name = data['Name']\n",
    "def send_message(contact):\n",
    "    for i,n in zip(contact,name):\n",
    "        message = f'Hello {n}. This is Uzuri Court shop. I hope you are doing alright. I wanted to inform you that we started farming broiler chickens and we have pure, fresh and local chickens. They retail at ksh.500 per chicken. The slaughtered batches weigh between 1.1 to 1.35 kgs and live batches between 1.7 to 2kg. We deliver to your doorstep. Contact us for more info. Karibuni nyote and support our own. Tell a friend to tell a friend. Thank you😊'\n",
    "        url = f\"https://api.whatsapp.com/send/?phone={i}\" \n",
    "\n",
    "        driver = webdriver.Chrome(service=Service(ChromeDriverManager().install()))\n",
    "        driver.get(url)\n",
    "        time.sleep(3)\n",
    "        try: \n",
    "            popup_coordinates = [553,254]\n",
    "            print(popup_coordinates)\n",
    "            pyautogui.click(popup_coordinates[0], popup_coordinates[1]) \n",
    "            time.sleep(1)\n",
    "        except: \n",
    "            print(\"No pop-up detected\")\n",
    "\n",
    "        time.sleep(1)\n",
    "        try: \n",
    "            attach_button_coords = [521,511]\n",
    "            pyautogui.click(attach_button_coords) \n",
    "            pyperclip.copy(message) \n",
    "            pyautogui.hotkey('ctrl', 'v') \n",
    "            pyautogui.press('enter')\n",
    "            time.sleep(1)\n",
    "\n",
    "        except Exception as e: \n",
    "            print(f\"Error: {e}\") \n",
    "        time.sleep(5)\n",
    "        driver.quit()\n",
    "\n",
    "send_message(contacts)"
   ]
  }
 ],
 "metadata": {
  "kernelspec": {
   "display_name": "Python 3 (ipykernel)",
   "language": "python",
   "name": "python3"
  },
  "language_info": {
   "codemirror_mode": {
    "name": "ipython",
    "version": 3
   },
   "file_extension": ".py",
   "mimetype": "text/x-python",
   "name": "python",
   "nbconvert_exporter": "python",
   "pygments_lexer": "ipython3",
   "version": "3.11.7"
  }
 },
 "nbformat": 4,
 "nbformat_minor": 5
}
