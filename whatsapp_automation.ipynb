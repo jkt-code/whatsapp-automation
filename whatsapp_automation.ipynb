{
 "cells": [
  {
   "cell_type": "code",
   "execution_count": 1,
   "id": "e6749617-1257-418d-a17b-01a17722d296",
   "metadata": {},
   "outputs": [],
   "source": [
    "import pandas as pd\n",
    "data = pd.read_excel(\"C:/Users/User/OneDrive/Uzuri Shops Contacts.xlsx\")\n",
    "data['Contact'] = '254' + data['Contact'].astype('str')"
   ]
  },
  {
   "cell_type": "code",
   "execution_count": 26,
   "id": "5d0cdcdc-a049-4c5c-a4b1-31c42b342563",
   "metadata": {},
   "outputs": [
    {
     "name": "stdout",
     "output_type": "stream",
     "text": [
      "254723983287 Mulonzya\n",
      "[553, 254]\n",
      "254701193693 Mwangangi\n",
      "[553, 254]\n",
      "254724996256 m. zawadi\n",
      "[553, 254]\n",
      "254700797600 ruth/mwangi\n",
      "[553, 254]\n",
      "254712119103 stephanie peter\n",
      "[553, 254]\n",
      "254798642501 sylvia\n",
      "[553, 254]\n",
      "254101691505 titus\n",
      "[553, 254]\n",
      "254724760377 tony\n",
      "[553, 254]\n",
      "254705089199 tuwa\n",
      "[553, 254]\n",
      "254712380781 victor keli\n",
      "[553, 254]\n",
      "254715922903 Winfred muli\n",
      "[553, 254]\n",
      "254722430091 Winnie muigai \n",
      "[553, 254]\n"
     ]
    }
   ],
   "source": [
    "from selenium import webdriver \n",
    "from selenium.webdriver.common.by import By \n",
    "from selenium.webdriver.common.keys import Keys \n",
    "import time\n",
    "import webbrowser \n",
    "from webdriver_manager.chrome import ChromeDriverManager\n",
    "from selenium.webdriver.chrome.service import Service \n",
    "import pyautogui\n",
    "import schedule\n",
    "import pyperclip\n",
    "contacts = data['Contact']\n",
    "name = data['Name']\n",
    "def send_message(contact):\n",
    "    for i,n in zip(contact,name):\n",
    "        print(i,n)\n",
    "        message = f'Hello {n}. This is Uzuri Court shop. I hope you are doing alright. I wanted to inform you that we started farming broiler chickens and we have pure, fresh and local chickens. They retail at ksh.500 per chicken. The slaughtered batches weigh between 1.1 to 1.35 kgs and live batches between 1.7 to 2kg. We deliver to your doorstep. Contact us for more info. Karibuni nyote and support our own. Tell a friend to tell a friend. Thank you😊'\n",
    "        # Image path \n",
    "        image_path = \"IMG_20241205_151221.jpg\" # Replace with the path to your image\n",
    "        url = f\"https://api.whatsapp.com/send/?phone={i}\" \n",
    "        # Specify the browser path (you might need to adjust this path based on your system) \n",
    "        driver = webdriver.Chrome(service=Service(ChromeDriverManager().install()))\n",
    "        driver.get(url)\n",
    "        time.sleep(3)\n",
    "        try: \n",
    "            popup_coordinates = [553,254]\n",
    "            print(popup_coordinates)\n",
    "            pyautogui.click(popup_coordinates[0], popup_coordinates[1]) \n",
    "            time.sleep(1)\n",
    "        except: \n",
    "            print(\"No pop-up detected\")\n",
    "        # Ensure message is sent before uploading the image\n",
    "        time.sleep(1)\n",
    "        try: \n",
    "            attach_button_coords = [521,511]\n",
    "            pyautogui.click(attach_button_coords) \n",
    "            pyperclip.copy(message) \n",
    "            pyautogui.hotkey('ctrl', 'v') \n",
    "            pyautogui.press('enter')\n",
    "            time.sleep(1)\n",
    "\n",
    "        except Exception as e: \n",
    "            print(f\"Error: {e}\") \n",
    "        time.sleep(5)\n",
    "        driver.quit()\n",
    "        # Wait a little to ensure the browser has closed\n",
    "\n",
    "send_message(contacts)\n"
   ]
  }
 ],
 "metadata": {
  "kernelspec": {
   "display_name": "Python 3 (ipykernel)",
   "language": "python",
   "name": "python3"
  },
  "language_info": {
   "codemirror_mode": {
    "name": "ipython",
    "version": 3
   },
   "file_extension": ".py",
   "mimetype": "text/x-python",
   "name": "python",
   "nbconvert_exporter": "python",
   "pygments_lexer": "ipython3",
   "version": "3.11.7"
  }
 },
 "nbformat": 4,
 "nbformat_minor": 5
}
